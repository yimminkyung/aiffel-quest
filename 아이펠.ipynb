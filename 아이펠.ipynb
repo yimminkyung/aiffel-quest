{
  "nbformat": 4,
  "nbformat_minor": 0,
  "metadata": {
    "colab": {
      "provenance": [],
      "mount_file_id": "1MQPT15Hw4b2Yc4W19JBTJL9UBCEKrs_y",
      "authorship_tag": "ABX9TyM4sRwouMzZOD5qcw2vJxxQ",
      "include_colab_link": true
    },
    "kernelspec": {
      "name": "python3",
      "display_name": "Python 3"
    },
    "language_info": {
      "name": "python"
    }
  },
  "cells": [
    {
      "cell_type": "markdown",
      "metadata": {
        "id": "view-in-github",
        "colab_type": "text"
      },
      "source": [
        "<a href=\"https://colab.research.google.com/github/yimminkyung/aiffel-quest/blob/master/%EC%95%84%EC%9D%B4%ED%8E%A0.ipynb\" target=\"_parent\"><img src=\"https://colab.research.google.com/assets/colab-badge.svg\" alt=\"Open In Colab\"/></a>"
      ]
    },
    {
      "cell_type": "code",
      "source": [
        "from google.colab import drive\n",
        "drive.mount('/content/drive')"
      ],
      "metadata": {
        "id": "yP2w85zMcKJh",
        "colab": {
          "base_uri": "https://localhost:8080/"
        },
        "outputId": "9524e3bd-f37b-43fd-96ad-3cafbc7d9f56"
      },
      "execution_count": 8,
      "outputs": [
        {
          "output_type": "stream",
          "name": "stdout",
          "text": [
            "Drive already mounted at /content/drive; to attempt to forcibly remount, call drive.mount(\"/content/drive\", force_remount=True).\n"
          ]
        }
      ]
    },
    {
      "cell_type": "code",
      "source": [
        "# 2. 텍스트 전처리 함수\n",
        "def process_text(text):\n",
        "    # 소문자로 변환\n",
        "    text = text.lower()"
      ],
      "metadata": {
        "id": "y3IOj1w8giu5"
      },
      "execution_count": 15,
      "outputs": []
    }
  ]
}